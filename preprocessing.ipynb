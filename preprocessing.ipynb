{
 "cells": [
  {
   "cell_type": "code",
   "execution_count": 1,
   "metadata": {},
   "outputs": [],
   "source": [
    "import cv2\n",
    "import numpy as np\n",
    "import os\n",
    "from matplotlib import pyplot as plt"
   ]
  },
  {
   "cell_type": "code",
   "execution_count": 2,
   "metadata": {},
   "outputs": [],
   "source": [
    "def readImage(str):\n",
    "    image=cv2.imread(str)\n",
    "    return image"
   ]
  },
  {
   "cell_type": "code",
   "execution_count": 3,
   "metadata": {},
   "outputs": [],
   "source": [
    "def resizeImage(image):\n",
    "    \n",
    "    if (image.shape[0]>image.shape[1]):\n",
    "        dim = (350, 550)\n",
    "        sized = cv2.resize(image, dim, interpolation = cv2.INTER_AREA)\n",
    "    else:\n",
    "        dim = (550,350)\n",
    "        sized = cv2.resize(image, dim, interpolation = cv2.INTER_AREA)\n",
    "    # resize image\n",
    "    return sized"
   ]
  },
  {
   "cell_type": "code",
   "execution_count": 4,
   "metadata": {},
   "outputs": [],
   "source": [
    "def grayscale(image):\n",
    "    gray= cv2.cvtColor(image, cv2.COLOR_BGR2GRAY)\n",
    "    return gray"
   ]
  },
  {
   "cell_type": "code",
   "execution_count": 5,
   "metadata": {},
   "outputs": [],
   "source": [
    "def invert(image):\n",
    "    inverted=cv2.bitwise_not(image)\n",
    "    return inverted"
   ]
  },
  {
   "cell_type": "code",
   "execution_count": 6,
   "metadata": {},
   "outputs": [],
   "source": [
    "def grayBGR(image):\n",
    "    gray_3_channel = cv2.cvtColor(grayscale(image), cv2.COLOR_GRAY2BGR)\n",
    "    return gray_3_channel"
   ]
  },
  {
   "cell_type": "code",
   "execution_count": 7,
   "metadata": {},
   "outputs": [],
   "source": [
    "def displayImage(image):\n",
    "    cv2.imshow('dst',image)\n",
    "    cv2.waitKey(0)\n",
    "    cv2.destroyAllWindows()\n"
   ]
  },
  {
   "cell_type": "code",
   "execution_count": 8,
   "metadata": {},
   "outputs": [],
   "source": [
    "def trunc_thresh(image):    \n",
    "    ret,trunc = cv2.threshold(image,150,255,cv2.THRESH_TRUNC)\n",
    "    return trunc"
   ]
  },
  {
   "cell_type": "code",
   "execution_count": 9,
   "metadata": {},
   "outputs": [],
   "source": [
    "def otsu_thresh(image):\n",
    "    ret,otsu = cv2.threshold(img,0,255,cv2.THRESH_BINARY+cv2.THRESH_OTSU)\n",
    "    return otsu"
   ]
  },
  {
   "cell_type": "code",
   "execution_count": 10,
   "metadata": {},
   "outputs": [],
   "source": [
    "def sharpen(image):\n",
    "    kernel = np.array([[-1,-1,-1], \n",
    "                       [-1, 9,-1],\n",
    "                       [-1,-1,-1]])\n",
    "    sharpened = cv2.filter2D(image, -1, kernel) # applying the sharpening kernel to the input image & displaying it.\n",
    "    return sharpened"
   ]
  },
  {
   "cell_type": "code",
   "execution_count": 90,
   "metadata": {},
   "outputs": [],
   "source": [
    "def image_smoothening(img):\n",
    "    ret1, th1 = cv2.threshold(img, cv2.THRESH_BINARY, 255, cv2.THRESH_BINARY)\n",
    "    ret2, th2 = cv2.threshold(th1, 0, 255, cv2.THRESH_BINARY + cv2.THRESH_OTSU)\n",
    "    blur = cv2.GaussianBlur(th2, (1, 1), 0)\n",
    "    ret3, th3 = cv2.threshold(blur, 0, 255, cv2.THRESH_BINARY + cv2.THRESH_OTSU)\n",
    "    return th3"
   ]
  },
  {
   "cell_type": "code",
   "execution_count": 84,
   "metadata": {},
   "outputs": [],
   "source": [
    "def remove_noise_and_smooth(img):\n",
    "    filtered = cv2.adaptiveThreshold(img.astype(np.uint8), 255, cv2.ADAPTIVE_THRESH_MEAN_C, cv2.THRESH_BINARY, 9, 41)\n",
    "    kernel = np.ones((1, 1), np.uint8)\n",
    "    opening = cv2.morphologyEx(filtered, cv2.MORPH_OPEN, kernel)\n",
    "    closing = cv2.morphologyEx(opening, cv2.MORPH_CLOSE, kernel)\n",
    "    img = image_smoothening(img)\n",
    "    or_image = cv2.bitwise_or(img, closing)\n",
    "    return or_image"
   ]
  },
  {
   "cell_type": "code",
   "execution_count": 85,
   "metadata": {},
   "outputs": [],
   "source": [
    "def preprocess(img):\n",
    "    resized_image=resizeImage(img)\n",
    "    grayscaled=grayscale(resized_image)\n",
    "    trunc=trunc_thresh(grayscaled)\n",
    "    sharp=sharpen(trunc)\n",
    "    return sharp\n",
    "    "
   ]
  },
  {
   "cell_type": "code",
   "execution_count": 86,
   "metadata": {},
   "outputs": [],
   "source": [
    "im=readImage('E:/Pan/pan33.jpg')"
   ]
  },
  {
   "cell_type": "code",
   "execution_count": 122,
   "metadata": {},
   "outputs": [],
   "source": [
    "im1=readImage('E:voterid/vid1.jpg')\n",
    "resized_image=resizeImage(im1)\n",
    "grayscaled=grayscale(resized_image)\n",
    "trunc=trunc_thresh(grayscaled)\n",
    "sharp=sharpen(trunc)\n",
    "imgs=remove_noise_and_smooth(sharp)\n",
    "cv2.imshow('Image',resized_image)\n",
    "cv2.imshow('Gray',grayscaled)\n",
    "cv2.imshow('Trunc',trunc)\n",
    "cv2.imshow('Sharp',sharp)\n",
    "cv2.imshow('Noiseless',imgs)\n",
    "cv2.waitKey(0)\n",
    "cv2.destroyAllWindows()"
   ]
  },
  {
   "cell_type": "code",
   "execution_count": 123,
   "metadata": {},
   "outputs": [],
   "source": [
    "inv=invert(imgs)\n",
    "kernel = np.ones((1,3),np.uint8)\n",
    "dilate = cv2.dilate(inv, kernel,iterations = 10)\n",
    "\n",
    "cv2.imshow('Noiseless',imgs)\n",
    "cv2.imshow('Noiseless Inv',inv)\n",
    "cv2.imshow('Noiseless dilate',dilate)\n",
    "cv2.waitKey(0)\n",
    "cv2.destroyAllWindows()"
   ]
  },
  {
   "cell_type": "code",
   "execution_count": null,
   "metadata": {},
   "outputs": [],
   "source": [
    "opening = cv2.morphologyEx(inv, cv2.MORPH_OPEN, kernel)\n",
    "sharper=sharpen(dilate)"
   ]
  },
  {
   "cell_type": "code",
   "execution_count": 99,
   "metadata": {},
   "outputs": [],
   "source": [
    "kernel2=np.ones((4),np.uint8)\n",
    "dilation = cv2.dilate(dilat,kernel,iterations = 15)\n",
    "cv2.imshow('Noiseless sharp',sharper)\n",
    "cv2.imshow('smudge',dilation)\n",
    "cv2.waitKey(0)\n",
    "cv2.destroyAllWindows()"
   ]
  },
  {
   "cell_type": "code",
   "execution_count": 16,
   "metadata": {},
   "outputs": [],
   "source": [
    "a=grayscaled\n",
    "ret,thresh1 = cv2.threshold(a,127,255,cv2.THRESH_BINARY)\n",
    "ret,thresh2 = cv2.threshold(a,127,255,cv2.THRESH_BINARY_INV)\n",
    "ret,thresh3 = cv2.threshold(a,100,255,cv2.THRESH_TRUNC)\n",
    "ret,thresh4 = cv2.threshold(a,127,255,cv2.THRESH_TOZERO)\n",
    "ret,thresh5 = cv2.threshold(a,127,255,cv2.THRESH_TOZERO_INV)\n",
    "cv2.imshow('bin',thresh1)\n",
    "cv2.imshow('Bin inv',thresh2)\n",
    "cv2.imshow('trunc',thresh3)\n",
    "cv2.imshow('tozero',thresh4)\n",
    "cv2.imshow('thres',im2)\n",
    "cv2.imshow('tozeroinv',thresh5)\n",
    "cv2.waitKey(0)\n",
    "cv2.destroyAllWindows()\n",
    "\n",
    "\n",
    "#cv2.imshow('dst',img)\n",
    "#cv2.waitKey(0)\n",
    "#cv2.destroyAllWindows()\n",
    "#displayImage(adp)"
   ]
  },
  {
   "cell_type": "code",
   "execution_count": null,
   "metadata": {
    "scrolled": true
   },
   "outputs": [],
   "source": [
    "fig, axs = plt.subplots(1, 1, figsize=(19, 3), sharey=True)\n",
    "\n",
    "axs.plot(x[:300], trunc[140,:300])\n",
    "fig.suptitle('Categorical Plotting')"
   ]
  },
  {
   "cell_type": "code",
   "execution_count": 51,
   "metadata": {},
   "outputs": [],
   "source": [
    "kernel = np.zeros((1,15),np.uint8)\n",
    "dilation = cv2.dilate(img,kernel,iterations = 1)\n",
    "cv2.imshow('img',img)\n",
    "cv2.imshow('thres',dilation)\n",
    "#cv2.imshow('tozeroinv',thresh5)\n",
    "cv2.waitKey(0)\n",
    "cv2.destroyAllWindows()"
   ]
  }
 ],
 "metadata": {
  "kernelspec": {
   "display_name": "Python 3",
   "language": "python",
   "name": "python3"
  },
  "language_info": {
   "codemirror_mode": {
    "name": "ipython",
    "version": 3
   },
   "file_extension": ".py",
   "mimetype": "text/x-python",
   "name": "python",
   "nbconvert_exporter": "python",
   "pygments_lexer": "ipython3",
   "version": "3.7.6"
  }
 },
 "nbformat": 4,
 "nbformat_minor": 2
}
